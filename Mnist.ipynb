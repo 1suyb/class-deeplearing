{
 "cells": [
  {
   "cell_type": "markdown",
   "metadata": {},
   "source": [
    "# MNIST Data 분류\n"
   ]
  },
  {
   "cell_type": "code",
   "execution_count": 27,
   "metadata": {},
   "outputs": [],
   "source": [
    "# Import Modules\n",
    "# 1. MNIST Dataset - Mnist데이터를 불러오기 위한 모듈 밑바닥부터 시작하는 딥러닝 제공\n",
    "# 2. Numpy \n",
    "# 3. Layer Module - 구현한 레이어 모듈\n",
    "# 4. PIL - 이미지 출력을 위한 모듈\n",
    "# 5. matplotlib - 그래프 출력을 위한 모듈 \n",
    "\n",
    "from Dataset.mnist import load_mnist\n",
    "import numpy as np\n",
    "import MnistLayers as ly\n",
    "from PIL import Image\n",
    "import matplotlib.pyplot as plt\n",
    "\n",
    "#랜덤 시드 고정\n",
    "np.random.seed(777)"
   ]
  },
  {
   "cell_type": "code",
   "execution_count": 28,
   "metadata": {},
   "outputs": [],
   "source": [
    "# Model -1\n",
    "# 2 Linear Layer를 이용하여 분류.\n",
    "# - Linear(784*50) -> ReLU -> Linear(50*10) \n",
    "# forward : 순전파\n",
    "# backward : 역전파\n",
    "# step : Weight update\n",
    "class Model : \n",
    "    def __init__(self,inputsize, outputsize, hiddenlayer) :\n",
    "        self.linear1 = ly.Linear(inputsize,hiddenlayer)\n",
    "        self.relu = ly.ReLU()\n",
    "        self.linear2 = ly.Linear(hiddenlayer, outputsize)\n",
    "        self.parameters = {}\n",
    "        self.parameters['linear1'] = self.linear1.parameters\n",
    "        self.parameters['linear2'] = self.linear2.parameters\n",
    "    \n",
    "    def forward(self,X) :\n",
    "        X1 = self.linear1.forward(X)\n",
    "        X2 = self.relu.forward(X1)\n",
    "        X3 = self.linear2.forward(X2)\n",
    "        return X3\n",
    "\n",
    "    def backward(self,dY) :\n",
    "        dX2, dW2, db2 = self.linear2.backward(dY)\n",
    "        dZ = self.relu.backward(dX2)\n",
    "        dX1, dW1, db1 = self.linear1.backward(dZ)\n",
    "        return dW1,db1,dW2,db2\n",
    "    \n",
    "    def step(self, stepf, *grad) :\n",
    "        self.parameters['linear1']['W'] = stepf(self.parameters['linear1']['W'],grad[0])\n",
    "        self.parameters['linear1']['b'] = stepf(self.parameters['linear1']['b'],grad[1])\n",
    "        self.parameters['linear2']['W'] = stepf(self.parameters['linear2']['W'],grad[2])\n",
    "        self.parameters['linear2']['b'] = stepf(self.parameters['linear2']['b'],grad[3])\n"
   ]
  },
  {
   "cell_type": "code",
   "execution_count": 29,
   "metadata": {},
   "outputs": [],
   "source": [
    "# Model - 2\n",
    "# 1 Linear layer를 이용한 분류\n",
    "# Linear(784*10)\n",
    "# forward : 순전파\n",
    "# backward : 역전파\n",
    "# step : Update\n",
    "class Model_2 :\n",
    "    def __init__(self,inputsize,outputsize) :\n",
    "        self.linear1 = ly.Linear(inputsize=inputsize,outputsize=outputsize)\n",
    "        self.parameters = []\n",
    "        self.parameters.append(self.linear1.parameters)\n",
    "    def forward(self,X) :\n",
    "        X1 = self.linear1.forward(X)\n",
    "        return X1\n",
    "    def backward(self,dY) :\n",
    "        dX,dW,db = self.linear1.backward(dY)\n",
    "        return dW,db\n",
    "    def step(self,stepf,*grad) :\n",
    "        self.parameters[0]['W'] = stepf(self.parameters[0]['W'],grad[0])\n",
    "        self.parameters[0]['b'] = stepf(self.parameters[0]['b'],grad[1])"
   ]
  },
  {
   "cell_type": "code",
   "execution_count": 30,
   "metadata": {},
   "outputs": [],
   "source": [
    "# Optimize function - SGD\n",
    "# w - lr*dw\n",
    "# lr : 학습률 \n",
    "class SGD : \n",
    "    def __init__(self, model, lr) :\n",
    "        self.model = model\n",
    "        self.lr = lr\n",
    "    def step(self,*grad):\n",
    "        stepf = lambda x,y : x - self.lr*y\n",
    "        self.model.step(stepf,*grad)\n",
    "        \n",
    "# momentum 적용\n",
    "# w - v\n",
    "# v = mu*v + lr*dw\n",
    "class momentum : \n",
    "    def __init__(self, model, lr, mu) :\n",
    "        self.model = model\n",
    "        self.lr = lr\n",
    "        self.mu = mu\n",
    "        self.v = 0\n",
    "    def step(self,*grad):\n",
    "        for i in range(len(grad)) :\n",
    "            self.v = self.mu*self.v + self.lr*grad[i]\n",
    "        stepf = lambda x,y : x - self.lr*y\n",
    "        self.model.step(stepf,*grad)"
   ]
  },
  {
   "cell_type": "code",
   "execution_count": 31,
   "metadata": {},
   "outputs": [],
   "source": [
    "# Utility\n",
    "\n",
    "# 정확도\n",
    "# Perdict , Target (batchsize, outputsize)\n",
    "def Accuracy(predict,target) :\n",
    "    predict = np.argmax(predict,axis=1)\n",
    "    target = np.argmax(target,axis=1)\n",
    "    true = 0\n",
    "    for i in range(len(predict)) :\n",
    "        if predict[i] == target[i] :\n",
    "            true += 1\n",
    "    print(\"true : \", true)\n",
    "    return true/len(predict)*100\n",
    "\n",
    "# 이미지 출력\n",
    "# img : numpy 배열 \n",
    "def img_show(img) :\n",
    "    img = img.reshape(28,28)\n",
    "    pil_img = Image.fromarray(np.uint8(img))\n",
    "    pil_img.show()\n",
    "\n",
    "# 두개의 그래프 출력\n",
    "# X : Green Graph\n",
    "# Y : Blue Graph\n",
    "def drowgraph(X,Y) :\n",
    "    plt.plot(X,color='green')\n",
    "    plt.plot(Y)\n",
    "    plt.show()\n"
   ]
  },
  {
   "cell_type": "code",
   "execution_count": 32,
   "metadata": {},
   "outputs": [],
   "source": [
    "# Data Load\n",
    "(train_feature, train_target),(test_feature,test_target) = load_mnist(flatten=True, normalize = True, one_hot_label=True)\n",
    "# Train/Validation Set 나누기\n",
    "trainrate = int(train_feature.shape[0]*0.9)\n",
    "x_train, x_validation = train_feature[:trainrate,:], train_feature[trainrate:,:]\n",
    "y_train, y_validation = train_target[:trainrate,:], train_target[trainrate:,:]"
   ]
  },
  {
   "cell_type": "code",
   "execution_count": 33,
   "metadata": {},
   "outputs": [
    {
     "name": "stdout",
     "output_type": "stream",
     "text": [
      "Train Feature shape :  (60000, 784)\n",
      "Train Target shape :  (60000, 10)\n"
     ]
    }
   ],
   "source": [
    "# 데이터 형상 확인\n",
    "print(\"Train Feature shape : \",train_feature.shape)\n",
    "print(\"Train Target shape : \",train_target.shape)\n",
    "img_show(x_train[0])"
   ]
  },
  {
   "cell_type": "code",
   "execution_count": 34,
   "metadata": {},
   "outputs": [],
   "source": [
    "# hyper parmeter 설정\n",
    "batchsize = 500\n",
    "epochs = 100"
   ]
  },
  {
   "cell_type": "markdown",
   "metadata": {},
   "source": [
    "##### 2-layer"
   ]
  },
  {
   "cell_type": "code",
   "execution_count": 46,
   "metadata": {},
   "outputs": [],
   "source": [
    "lr = 1e-5\n",
    "\n",
    "# Model 및 Loss Function, Optimizer 선언\n",
    "model = Model(inputsize = x_train.shape[1], hiddenlayer=50, outputsize=y_train.shape[1])\n",
    "LossFunction = ly.SoftMaxWithCrossEntropy()\n",
    "optim = SGD(model,lr=lr)"
   ]
  },
  {
   "cell_type": "code",
   "execution_count": 47,
   "metadata": {},
   "outputs": [
    {
     "name": "stdout",
     "output_type": "stream",
     "text": [
      "0======================================\n",
      "true :  53\n",
      "Accuracy :  10.6\n",
      "loss :  2.3026582058205975\n",
      "10======================================\n",
      "true :  49\n",
      "Accuracy :  9.8\n",
      "loss :  2.3024355025236427\n",
      "20======================================\n",
      "true :  49\n",
      "Accuracy :  9.8\n",
      "loss :  2.3025593358084584\n",
      "30======================================\n",
      "true :  49\n",
      "Accuracy :  9.8\n",
      "loss :  2.3027048852989687\n",
      "40======================================\n",
      "true :  49\n",
      "Accuracy :  9.8\n",
      "loss :  2.302812141864587\n",
      "50======================================\n",
      "true :  49\n",
      "Accuracy :  9.8\n",
      "loss :  2.3028772603849377\n",
      "60======================================\n",
      "true :  49\n",
      "Accuracy :  9.8\n",
      "loss :  2.3029153437220207\n",
      "70======================================\n",
      "true :  49\n",
      "Accuracy :  9.8\n",
      "loss :  2.302937015391122\n",
      "80======================================\n",
      "true :  49\n",
      "Accuracy :  9.8\n",
      "loss :  2.302949171770627\n",
      "90======================================\n",
      "true :  49\n",
      "Accuracy :  9.8\n",
      "loss :  2.3029559581197807\n"
     ]
    },
    {
     "data": {
      "image/png": "[encoded data removed]",
      "text/plain": [
       "<Figure size 640x480 with 1 Axes>"
      ]
     },
     "metadata": {},
     "output_type": "display_data"
    },
    {
     "name": "stdout",
     "output_type": "stream",
     "text": [
      "true :  1135\n",
      "11.35\n"
     ]
    }
   ],
   "source": [
    "loss = 0\n",
    "lossval = []\n",
    "losstrain = []\n",
    "for epoch in range(epochs) :\n",
    "    for i in range(0,x_train.shape[0],batchsize) :\n",
    "        x_batch = x_train[i:i+batchsize,:]\n",
    "        y_batch = y_train[i:i+batchsize,:]\n",
    "        \n",
    "        predict = model.forward(x_batch)\n",
    "        loss += LossFunction.forward(predict,y_batch)\n",
    "        \n",
    "        dY = LossFunction.backward()\n",
    "        dW1,db1,dW2,db2 = model.backward(dY)\n",
    "        optim.step(dW1,db1,dW2,db2)\n",
    "    losstrain.append(loss/int(x_train.shape[0]/batchsize))\n",
    "    loss = 0\n",
    "    x = x_validation[:batchsize,:]\n",
    "    y = y_validation[:batchsize,:]\n",
    "\n",
    "    predict = model.forward(x)\n",
    "    lossval.append(LossFunction.forward(predict,y))\n",
    "\n",
    "    if(epoch%10 == 0) : \n",
    "        print(f\"{epoch}======================================\")\n",
    "        print(\"Accuracy : \",Accuracy(predict,y))\n",
    "        print(\"loss : \", lossval[len(lossval)-1] )\n",
    "drowgraph(losstrain,lossval)\n",
    "\n",
    "test_predict = model.forward(test_feature)\n",
    "print(Accuracy(test_predict,test_target))"
   ]
  },
  {
   "cell_type": "markdown",
   "metadata": {},
   "source": [
    "##### 1-layer (SGD)"
   ]
  },
  {
   "cell_type": "code",
   "execution_count": 37,
   "metadata": {},
   "outputs": [],
   "source": [
    "lr  = 1e-5\n",
    "# Model 및 Loss Function, Optimizer 선언\n",
    "model = Model_2(inputsize=x_train.shape[1],outputsize=y_train.shape[1])\n",
    "LossFunction = ly.SoftMaxWithCrossEntropy()\n",
    "optim = SGD(model,lr=lr)"
   ]
  },
  {
   "cell_type": "code",
   "execution_count": 38,
   "metadata": {},
   "outputs": [
    {
     "name": "stdout",
     "output_type": "stream",
     "text": [
      "0======================================\n",
      "true :  317\n",
      "Accuracy :  63.4\n",
      "loss :  1.8165540989253632\n",
      "10======================================\n",
      "true :  425\n",
      "Accuracy :  85.0\n",
      "loss :  0.7318008872526184\n",
      "20======================================\n",
      "true :  437\n",
      "Accuracy :  87.4\n",
      "loss :  0.5633709817175057\n",
      "30======================================\n",
      "true :  440\n",
      "Accuracy :  88.0\n",
      "loss :  0.4920693636508196\n",
      "40======================================\n",
      "true :  445\n",
      "Accuracy :  89.0\n",
      "loss :  0.45133333826854194\n",
      "50======================================\n",
      "true :  446\n",
      "Accuracy :  89.2\n",
      "loss :  0.42440955586191986\n",
      "60======================================\n",
      "true :  446\n",
      "Accuracy :  89.2\n",
      "loss :  0.4050083866462483\n",
      "70======================================\n",
      "true :  446\n",
      "Accuracy :  89.2\n",
      "loss :  0.39020752228608535\n",
      "80======================================\n",
      "true :  447\n",
      "Accuracy :  89.4\n",
      "loss :  0.3784517997052689\n",
      "90======================================\n",
      "true :  448\n",
      "Accuracy :  89.60000000000001\n",
      "loss :  0.3688312934308518\n"
     ]
    },
    {
     "data": {
      "image/png": "[encoded data removed]",
      "text/plain": [
       "<Figure size 640x480 with 1 Axes>"
      ]
     },
     "metadata": {},
     "output_type": "display_data"
    },
    {
     "name": "stdout",
     "output_type": "stream",
     "text": [
      "true :  9043\n",
      "90.42999999999999\n"
     ]
    }
   ],
   "source": [
    "loss = 0\n",
    "lossval = []\n",
    "losstrain = []\n",
    "for epoch in range(epochs) :\n",
    "    for i in range(0,x_train.shape[0],batchsize) :\n",
    "        x_batch = x_train[i:i+batchsize,:]\n",
    "        y_batch = y_train[i:i+batchsize,:]\n",
    "        \n",
    "        predict = model.forward(x_batch)\n",
    "        loss += LossFunction.forward(predict,y_batch)\n",
    "        \n",
    "        dY = LossFunction.backward()\n",
    "        dW1,db1 = model.backward(dY)\n",
    "        optim.step(dW1,db1)\n",
    "    losstrain.append(loss/int(x_train.shape[0]/batchsize))\n",
    "    loss = 0\n",
    "    x = x_validation[:batchsize,:]\n",
    "    y = y_validation[:batchsize,:]\n",
    "\n",
    "    predict = model.forward(x)\n",
    "    lossval.append(LossFunction.forward(predict,y))\n",
    "\n",
    "    if(epoch%10 == 0) : \n",
    "        print(f\"{epoch}======================================\")\n",
    "        print(\"Accuracy : \",Accuracy(predict,y))\n",
    "        print(\"loss : \", lossval[len(lossval)-1] )\n",
    "drowgraph(losstrain,lossval)\n",
    "\n",
    "test_predict = model.forward(test_feature)\n",
    "print(Accuracy(test_predict,test_target))"
   ]
  },
  {
   "cell_type": "markdown",
   "metadata": {},
   "source": [
    "##### 1-layer(SGD + 1e-3)"
   ]
  },
  {
   "cell_type": "code",
   "execution_count": 39,
   "metadata": {},
   "outputs": [],
   "source": [
    "lr  = 1e-3\n",
    "\n",
    "model = Model_2(inputsize=x_train.shape[1],outputsize=y_train.shape[1])\n",
    "LossFunction = ly.SoftMaxWithCrossEntropy()\n",
    "optim = SGD(model,lr=lr)"
   ]
  },
  {
   "cell_type": "code",
   "execution_count": 40,
   "metadata": {},
   "outputs": [
    {
     "name": "stdout",
     "output_type": "stream",
     "text": [
      "0======================================\n",
      "true :  449\n",
      "Accuracy :  89.8\n",
      "loss :  0.3595572490495338\n",
      "10======================================\n",
      "true :  465\n",
      "Accuracy :  93.0\n",
      "loss :  0.263378854254835\n",
      "20======================================\n",
      "true :  464\n",
      "Accuracy :  92.80000000000001\n",
      "loss :  0.25448436812083197\n",
      "30======================================\n",
      "true :  462\n",
      "Accuracy :  92.4\n",
      "loss :  0.2512827444011356\n",
      "40======================================\n",
      "true :  466\n",
      "Accuracy :  93.2\n",
      "loss :  0.24986027347795522\n",
      "50======================================\n",
      "true :  466\n",
      "Accuracy :  93.2\n",
      "loss :  0.24923231934109583\n",
      "60======================================\n",
      "true :  465\n",
      "Accuracy :  93.0\n",
      "loss :  0.24902793643470456\n",
      "70======================================\n",
      "true :  465\n",
      "Accuracy :  93.0\n",
      "loss :  0.24907157707556138\n",
      "80======================================\n",
      "true :  466\n",
      "Accuracy :  93.2\n",
      "loss :  0.24926774033097251\n",
      "90======================================\n",
      "true :  466\n",
      "Accuracy :  93.2\n",
      "loss :  0.24955970402948024\n"
     ]
    },
    {
     "data": {
      "image/png": "[encoded data removed]",
      "text/plain": [
       "<Figure size 640x480 with 1 Axes>"
      ]
     },
     "metadata": {},
     "output_type": "display_data"
    },
    {
     "name": "stdout",
     "output_type": "stream",
     "text": [
      "true :  9255\n",
      "92.55\n"
     ]
    }
   ],
   "source": [
    "loss = 0\n",
    "lossval = []\n",
    "losstrain = []\n",
    "for epoch in range(epochs) :\n",
    "    for i in range(0,x_train.shape[0],batchsize) :\n",
    "        x_batch = x_train[i:i+batchsize,:]\n",
    "        y_batch = y_train[i:i+batchsize,:]\n",
    "        \n",
    "        predict = model.forward(x_batch)\n",
    "        loss += LossFunction.forward(predict,y_batch)\n",
    "        \n",
    "        dY = LossFunction.backward()\n",
    "        dW1,db1 = model.backward(dY)\n",
    "        optim.step(dW1,db1)\n",
    "    losstrain.append(loss/int(x_train.shape[0]/batchsize))\n",
    "    loss = 0\n",
    "    x = x_validation[:batchsize,:]\n",
    "    y = y_validation[:batchsize,:]\n",
    "\n",
    "    predict = model.forward(x)\n",
    "    lossval.append(LossFunction.forward(predict,y))\n",
    "\n",
    "    if(epoch%10 == 0) : \n",
    "        print(f\"{epoch}======================================\")\n",
    "        print(\"Accuracy : \",Accuracy(predict,y))\n",
    "        print(\"loss : \", lossval[len(lossval)-1] )\n",
    "drowgraph(losstrain,lossval)\n",
    "\n",
    "test_predict = model.forward(test_feature)\n",
    "print(Accuracy(test_predict,test_target))"
   ]
  },
  {
   "cell_type": "markdown",
   "metadata": {},
   "source": [
    "##### 1-layer (momentum + 1e-5)"
   ]
  },
  {
   "cell_type": "code",
   "execution_count": 41,
   "metadata": {},
   "outputs": [],
   "source": [
    "lr  = 1e-5\n",
    "mu = 0.9\n",
    "model = Model_2(inputsize=x_train.shape[1],outputsize=y_train.shape[1])\n",
    "LossFunction = ly.SoftMaxWithCrossEntropy()\n",
    "optim = momentum(model,lr=lr,mu=mu)"
   ]
  },
  {
   "cell_type": "code",
   "execution_count": 42,
   "metadata": {},
   "outputs": [
    {
     "name": "stdout",
     "output_type": "stream",
     "text": [
      "0======================================\n",
      "true :  292\n",
      "Accuracy :  58.4\n",
      "loss :  1.8900535045890434\n",
      "10======================================\n",
      "true :  428\n",
      "Accuracy :  85.6\n",
      "loss :  0.7336719848316862\n",
      "20======================================\n",
      "true :  435\n",
      "Accuracy :  87.0\n",
      "loss :  0.5644434061014556\n",
      "30======================================\n",
      "true :  439\n",
      "Accuracy :  87.8\n",
      "loss :  0.49277712538412866\n",
      "40======================================\n",
      "true :  445\n",
      "Accuracy :  89.0\n",
      "loss :  0.45169195737074086\n",
      "50======================================\n",
      "true :  445\n",
      "Accuracy :  89.0\n",
      "loss :  0.4244636010255917\n",
      "60======================================\n",
      "true :  447\n",
      "Accuracy :  89.4\n",
      "loss :  0.40480826678005327\n",
      "70======================================\n",
      "true :  448\n",
      "Accuracy :  89.60000000000001\n",
      "loss :  0.3897975929420107\n",
      "80======================================\n",
      "true :  448\n",
      "Accuracy :  89.60000000000001\n",
      "loss :  0.377868067458694\n",
      "90======================================\n",
      "true :  447\n",
      "Accuracy :  89.4\n",
      "loss :  0.368102221368905\n"
     ]
    },
    {
     "data": {
      "image/png": "[encoded data removed]",
      "text/plain": [
       "<Figure size 640x480 with 1 Axes>"
      ]
     },
     "metadata": {},
     "output_type": "display_data"
    },
    {
     "name": "stdout",
     "output_type": "stream",
     "text": [
      "true :  9028\n",
      "90.28\n"
     ]
    }
   ],
   "source": [
    "loss = 0\n",
    "lossval = []\n",
    "losstrain = []\n",
    "for epoch in range(epochs) :\n",
    "    for i in range(0,x_train.shape[0],batchsize) :\n",
    "        x_batch = x_train[i:i+batchsize,:]\n",
    "        y_batch = y_train[i:i+batchsize,:]\n",
    "        \n",
    "        predict = model.forward(x_batch)\n",
    "        loss += LossFunction.forward(predict,y_batch)\n",
    "        \n",
    "        dY = LossFunction.backward()\n",
    "        dW1,db1 = model.backward(dY)\n",
    "        optim.step(dW1,db1)\n",
    "    losstrain.append(loss/int(x_train.shape[0]/batchsize))\n",
    "    loss = 0\n",
    "    x = x_validation[:batchsize,:]\n",
    "    y = y_validation[:batchsize,:]\n",
    "\n",
    "    predict = model.forward(x)\n",
    "    lossval.append(LossFunction.forward(predict,y))\n",
    "\n",
    "    if(epoch%10 == 0) : \n",
    "        print(f\"{epoch}======================================\")\n",
    "        print(\"Accuracy : \",Accuracy(predict,y))\n",
    "        print(\"loss : \", lossval[len(lossval)-1] )\n",
    "drowgraph(losstrain,lossval)\n",
    "\n",
    "test_predict = model.forward(test_feature)\n",
    "print(Accuracy(test_predict,test_target))"
   ]
  },
  {
   "cell_type": "markdown",
   "metadata": {},
   "source": [
    "##### 1-layer (momentum + 1e-3)"
   ]
  },
  {
   "cell_type": "code",
   "execution_count": 43,
   "metadata": {},
   "outputs": [],
   "source": [
    "lr  = 1e-3\n",
    "mu = 0.9\n",
    "\n",
    "model = Model_2(inputsize=x_train.shape[1],outputsize=y_train.shape[1])\n",
    "LossFunction = ly.SoftMaxWithCrossEntropy()\n",
    "optim = momentum(model,lr=lr,mu=mu)"
   ]
  },
  {
   "cell_type": "code",
   "execution_count": 44,
   "metadata": {},
   "outputs": [
    {
     "name": "stdout",
     "output_type": "stream",
     "text": [
      "0======================================\n",
      "true :  449\n",
      "Accuracy :  89.8\n",
      "loss :  0.3623477713562908\n",
      "10======================================\n",
      "true :  464\n",
      "Accuracy :  92.80000000000001\n",
      "loss :  0.26481991512710634\n",
      "20======================================\n",
      "true :  465\n",
      "Accuracy :  93.0\n",
      "loss :  0.2551773922866917\n",
      "30======================================\n",
      "true :  462\n",
      "Accuracy :  92.4\n",
      "loss :  0.2516517032329904\n",
      "40======================================\n",
      "true :  464\n",
      "Accuracy :  92.80000000000001\n",
      "loss :  0.25007204234302843\n",
      "50======================================\n",
      "true :  464\n",
      "Accuracy :  92.80000000000001\n",
      "loss :  0.2493592311286049\n",
      "60======================================\n",
      "true :  465\n",
      "Accuracy :  93.0\n",
      "loss :  0.24910439043265994\n",
      "70======================================\n",
      "true :  465\n",
      "Accuracy :  93.0\n",
      "loss :  0.24911525354897587\n",
      "80======================================\n",
      "true :  466\n",
      "Accuracy :  93.2\n",
      "loss :  0.24928834835425334\n",
      "90======================================\n",
      "true :  466\n",
      "Accuracy :  93.2\n",
      "loss :  0.24956287781917438\n"
     ]
    },
    {
     "data": {
      "image/png": "[encoded data removed]",
      "text/plain": [
       "<Figure size 640x480 with 1 Axes>"
      ]
     },
     "metadata": {},
     "output_type": "display_data"
    },
    {
     "name": "stdout",
     "output_type": "stream",
     "text": [
      "true :  9254\n",
      "92.54\n"
     ]
    }
   ],
   "source": [
    "loss = 0\n",
    "lossval = []\n",
    "losstrain = []\n",
    "for epoch in range(epochs) :\n",
    "    for i in range(0,x_train.shape[0],batchsize) :\n",
    "        x_batch = x_train[i:i+batchsize,:]\n",
    "        y_batch = y_train[i:i+batchsize,:]\n",
    "        \n",
    "        predict = model.forward(x_batch)\n",
    "        loss += LossFunction.forward(predict,y_batch)\n",
    "        \n",
    "        dY = LossFunction.backward()\n",
    "        dW1,db1 = model.backward(dY)\n",
    "        optim.step(dW1,db1)\n",
    "    losstrain.append(loss/int(x_train.shape[0]/batchsize))\n",
    "    loss = 0\n",
    "    x = x_validation[:batchsize,:]\n",
    "    y = y_validation[:batchsize,:]\n",
    "\n",
    "    predict = model.forward(x)\n",
    "    lossval.append(LossFunction.forward(predict,y))\n",
    "\n",
    "    if(epoch%10 == 0) : \n",
    "        print(f\"{epoch}======================================\")\n",
    "        print(\"Accuracy : \",Accuracy(predict,y))\n",
    "        print(\"loss : \", lossval[len(lossval)-1] )\n",
    "drowgraph(losstrain,lossval)\n",
    "\n",
    "test_predict = model.forward(test_feature)\n",
    "print(Accuracy(test_predict,test_target))"
   ]
  }
 ],
 "metadata": {
  "kernelspec": {
   "display_name": "Python 3.9.13 ('DeepLearning')",
   "language": "python",
   "name": "python3"
  },
  "language_info": {
   "codemirror_mode": {
    "name": "ipython",
    "version": 3
   },
   "file_extension": ".py",
   "mimetype": "text/x-python",
   "name": "python",
   "nbconvert_exporter": "python",
   "pygments_lexer": "ipython3",
   "version": "3.9.13 (main, Aug 25 2022, 23:51:50) [MSC v.1916 64 bit (AMD64)]"
  },
  "orig_nbformat": 4,
  "vscode": {
   "interpreter": {
    "hash": "627c7ca4540c130a5ae87fdd551b66ef794b282493d3a91f94441822ce8cc555"
   }
  }
 },
 "nbformat": 4,
 "nbformat_minor": 2
}
