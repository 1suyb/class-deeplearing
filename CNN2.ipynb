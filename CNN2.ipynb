{
 "cells": [
  {
   "cell_type": "code",
   "execution_count": 1,
   "metadata": {},
   "outputs": [],
   "source": [
    "import numpy as np\n",
    "import numpy.random as rand\n",
    "import matplotlib.pyplot as plt\n",
    "import sys\n",
    "import MnistLayers"
   ]
  },
  {
   "cell_type": "code",
   "execution_count": 2,
   "metadata": {},
   "outputs": [],
   "source": [
    "def show(x,name) :\n",
    "    print(x)\n",
    "    print(f\"{name} shape : \" , x.shape)"
   ]
  },
  {
   "cell_type": "code",
   "execution_count": 3,
   "metadata": {},
   "outputs": [],
   "source": [
    "N = 2               # input 개수\n",
    "n_ic = 2            # input channel\n",
    "n_oc = 3            # output channel\n",
    "n_ih = 5            # input height\n",
    "n_iw = 4            # input weight\n",
    "n_fh = n_ph = 3     # filter / pooling height\n",
    "n_fw = n_pw = 2     # filter / pooling weight\n",
    "p = 0               # padding\n",
    "s = 1               # strride"
   ]
  },
  {
   "cell_type": "code",
   "execution_count": 17,
   "metadata": {},
   "outputs": [],
   "source": [
    "def im2col(X, filtersize, padding, strride, layertype) :\n",
    "    outputsize_h = int((X.shape[2] + 2*padding - filtersize)/strride) + 1  # output size\n",
    "    outputsize_w = int((X.shape[3] + 2*padding - filtersize)/strride) + 1\n",
    "    X = np.pad(X,((0,0),(0,0),(padding,padding),(padding,padding)),constant_values=(0,))\n",
    "    X_col = np.zeros([X.shape[0],X.shape[1], filtersize,filtersize,outputsize_h,outputsize_w])\n",
    "    for i in range(filtersize) :\n",
    "        i1 = i; i2 = i1 + strride*outputsize_h\n",
    "        for j in range(filtersize) :\n",
    "            j1 = j; j2 = j1 + strride*outputsize_w\n",
    "            X_col[:,:,i,j,:,:] = X[:,:,i1:i2:strride,j1:j2:strride]\n",
    "    if layertype == 'conv' :\n",
    "        X_col = np.transpose(X_col,[0,4,5,1,2,3])\n",
    "        X_col = np.reshape(X_col,[X.shape[0]*outputsize_h*outputsize_w,X.shape[1]*filtersize*filtersize])\n",
    "    elif layertype == 'pool' :\n",
    "        X_col = np.transpose(X_col,[0,1,4,5,2,3])\n",
    "        X_col = np.reshape(X_col,[X.shape[0]*outputsize_h*outputsize_w*X.shape[1],filtersize*filtersize])\n",
    "    return X_col"
   ]
  },
  {
   "cell_type": "code",
   "execution_count": 5,
   "metadata": {},
   "outputs": [],
   "source": [
    "class Mul : \n",
    "    def forward(self,X,W) :\n",
    "        self.X = X\n",
    "        self.W = W\n",
    "        return np.dot(X,W)\n",
    "    def backward(self,dY) :\n",
    "        X = self.X \n",
    "        W = self.W\n",
    "        dX = np.dot(dY,W.T)\n",
    "        dW = np.dot(X.T,dY)\n",
    "        return (dX,dW)\n"
   ]
  },
  {
   "cell_type": "code",
   "execution_count": 6,
   "metadata": {},
   "outputs": [
    {
     "name": "stdout",
     "output_type": "stream",
     "text": [
      "[[[[1 2 3 0]\n",
      "   [0 1 2 3]\n",
      "   [3 0 1 2]\n",
      "   [2 3 0 1]]\n",
      "\n",
      "  [[5 6 8 0]\n",
      "   [0 6 2 3]\n",
      "   [5 2 1 9]\n",
      "   [4 3 1 1]]]\n",
      "\n",
      "\n",
      " [[[1 2 1 0]\n",
      "   [0 2 2 3]\n",
      "   [3 0 9 2]\n",
      "   [1 3 0 2]]\n",
      "\n",
      "  [[5 6 8 0]\n",
      "   [2 5 2 3]\n",
      "   [2 2 6 9]\n",
      "   [4 2 1 4]]]]\n",
      "X shape :  (2, 2, 4, 4)\n",
      "[[[[2 0 1]\n",
      "   [0 1 2]\n",
      "   [1 0 2]]\n",
      "\n",
      "  [[1 2 1]\n",
      "   [0 2 0]\n",
      "   [1 0 1]]]\n",
      "\n",
      "\n",
      " [[[1 1 1]\n",
      "   [1 0 1]\n",
      "   [1 2 1]]\n",
      "\n",
      "  [[1 1 1]\n",
      "   [0 1 1]\n",
      "   [0 2 2]]]\n",
      "\n",
      "\n",
      " [[[2 1 1]\n",
      "   [1 0 0]\n",
      "   [1 0 1]]\n",
      "\n",
      "  [[2 0 1]\n",
      "   [2 2 0]\n",
      "   [0 2 0]]]]\n",
      "W shape :  (3, 2, 3, 3)\n"
     ]
    }
   ],
   "source": [
    "N = 2       # input\n",
    "n_ic = 2    # input(filter) channel\n",
    "n_oc = 3    # output channel\n",
    "n_i = 4     # input(row,col) size\n",
    "n_f = 3     # filter(row,col) size\n",
    "p = 0       # padding size\n",
    "s = 1       # stride size\n",
    "n_o = int((n_i + 2*p - n_f)/s) + 1  # output size\n",
    "# X(N, n_ic, n_i, n_i)\n",
    "X11 = np.array([[1,2,3,0],[0,1,2,3],[3,0,1,2],[2,3,0,1]])\n",
    "X12 = np.array([[5,6,8,0],[0,6,2,3],[5,2,1,9],[4,3,1,1]])\n",
    "X1 = np.array([X11,X12])\n",
    "X21 = np.array([[1,2,1,0],[0,2,2,3],[3,0,9,2],[1,3,0,2]])\n",
    "X22 = np.array([[5,6,8,0],[2,5,2,3],[2,2,6,9],[4,2,1,4]])\n",
    "X2 = np.array([X21,X22])\n",
    "X = np.array([X1,X2])\n",
    "X = np.pad(X,((0,0),(0,0),(p,p),(p,p)),constant_values=(0,))\n",
    "show(X,'X')\n",
    "# W(n_oc, n_ic, n_f, n_f)\n",
    "W11 = np.array([[2,0,1],[0,1,2],[1,0,2]])\n",
    "W12 = np.array([[1,2,1],[0,2,0],[1,0,1]])\n",
    "W1 = np.array([W11,W12])\n",
    "W21 = np.array([[1,1,1],[1,0,1],[1,2,1]])\n",
    "W22 = np.array([[1,1,1],[0,1,1],[0,2,2]])\n",
    "W2 = np.array([W21,W22])\n",
    "W31 = np.array([[2,1,1],[1,0,0],[1,0,1]])\n",
    "W32 = np.array([[2,0,1],[2,2,0],[0,2,0]])\n",
    "W3 = np.array([W31,W32])\n",
    "W = np.array([W1,W2,W3])\n",
    "show(W,'W')\n",
    "# output(N, n_oc, n_o, n_o)\n"
   ]
  },
  {
   "cell_type": "code",
   "execution_count": 26,
   "metadata": {},
   "outputs": [],
   "source": [
    "class Conv2d :\n",
    "    def __init__(self,inchannel=1, outchannel=1, fildtersize=3, padding = 0, strride = 1,) : \n",
    "        self.filtersize=fildtersize\n",
    "        self.padding = padding\n",
    "        self.strride = strride\n",
    "        self.outchannel = outchannel\n",
    "        self.inchannel = inchannel\n",
    "        W11 = np.array([[2,0,1],[0,1,2],[1,0,2]])\n",
    "        W12 = np.array([[1,2,1],[0,2,0],[1,0,1]])\n",
    "        W1 = np.array([W11,W12])\n",
    "        W21 = np.array([[1,1,1],[1,0,1],[1,2,1]])\n",
    "        W22 = np.array([[1,1,1],[0,1,1],[0,2,2]])\n",
    "        W2 = np.array([W21,W22])\n",
    "        W31 = np.array([[2,1,1],[1,0,0],[1,0,1]])\n",
    "        W32 = np.array([[2,0,1],[2,2,0],[0,2,0]])\n",
    "        W3 = np.array([W31,W32])\n",
    "        self.W = np.array([W1,W2,W3])\n",
    "    \n",
    "    def forward(self, X):\n",
    "        X_col = im2col(X,self.filtersize,self.padding,self.strride,'conv')\n",
    "        W_col = self.W.reshape([self.outchannel, self.inchannel*self.filtersize*self.filtersize])\n",
    "        W_col = W_col.T\n",
    "        mul = Mul()\n",
    "        # show(X_col,'xcol')\n",
    "        Y = mul.forward(X_col,W_col)\n",
    "        Y = Y.reshape([X.shape[0],-1,self.outchannel])\n",
    "        Y = np.transpose(Y,[0,2,1])\n",
    "        oh = int((X.shape[2] + 2*self.padding - self.filtersize)/self.strride) + 1\n",
    "        ow = int((X.shape[3] + 2*self.padding - self.filtersize)/self.strride) + 1\n",
    "        Y = Y.reshape(X.shape[0],self.outchannel,oh,ow)\n",
    "        return Y"
   ]
  },
  {
   "cell_type": "code",
   "execution_count": 27,
   "metadata": {},
   "outputs": [
    {
     "data": {
      "text/plain": [
       "array([[[[58., 53.],\n",
       "         [29., 34.]],\n",
       "\n",
       "        [[45., 52.],\n",
       "         [34., 37.]],\n",
       "\n",
       "        [[45., 40.],\n",
       "         [30., 34.]]],\n",
       "\n",
       "\n",
       "       [[[73., 53.],\n",
       "         [44., 57.]],\n",
       "\n",
       "        [[60., 77.],\n",
       "         [46., 49.]],\n",
       "\n",
       "        [[53., 47.],\n",
       "         [26., 45.]]]])"
      ]
     },
     "execution_count": 27,
     "metadata": {},
     "output_type": "execute_result"
    }
   ],
   "source": [
    "conv2d = Conv2d(n_ic,n_oc,n_f,p,s)\n",
    "conv2d.forward(X)"
   ]
  },
  {
   "cell_type": "code",
   "execution_count": null,
   "metadata": {},
   "outputs": [],
   "source": [
    "mul = MnistLayers.Mul()\n",
    "Y = mul.forward(X_col,W_col)\n",
    "show(Y,'Y')"
   ]
  },
  {
   "cell_type": "code",
   "execution_count": null,
   "metadata": {},
   "outputs": [],
   "source": [
    "Y = Y2img(Y,N,n_oc,n_o,n_o)\n",
    "show(Y,'Y')"
   ]
  },
  {
   "cell_type": "code",
   "execution_count": null,
   "metadata": {},
   "outputs": [],
   "source": [
    "ReLu = MnistLayers.ReLU()\n",
    "Yrelu = ReLu.forward(Y)"
   ]
  },
  {
   "cell_type": "code",
   "execution_count": null,
   "metadata": {},
   "outputs": [],
   "source": [
    "show(Yrelu,'Relu')"
   ]
  },
  {
   "cell_type": "code",
   "execution_count": null,
   "metadata": {},
   "outputs": [],
   "source": []
  }
 ],
 "metadata": {
  "kernelspec": {
   "display_name": "DeepLearning",
   "language": "python",
   "name": "python3"
  },
  "language_info": {
   "codemirror_mode": {
    "name": "ipython",
    "version": 3
   },
   "file_extension": ".py",
   "mimetype": "text/x-python",
   "name": "python",
   "nbconvert_exporter": "python",
   "pygments_lexer": "ipython3",
   "version": "3.9.13"
  },
  "orig_nbformat": 4,
  "vscode": {
   "interpreter": {
    "hash": "627c7ca4540c130a5ae87fdd551b66ef794b282493d3a91f94441822ce8cc555"
   }
  }
 },
 "nbformat": 4,
 "nbformat_minor": 2
}
