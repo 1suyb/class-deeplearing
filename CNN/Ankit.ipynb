{
 "cells": [
  {
   "cell_type": "code",
   "execution_count": null,
   "metadata": {},
   "outputs": [],
   "source": [
    "import numpy as np\n",
    "import matplotlib.pyplot as plt\n",
    "from PIL import Image\n",
    "import glob\n",
    "from Dataset import Dataset\n",
    "from Module import Conv2d, im2col\n",
    "IMAGEFLODERPATH = r'Dataset/Ankit_CV_Datasetv2/dataset/'\n",
    "MASKEDIMGPATH =  r'*_masked/*.jpg'\n",
    "PARTIALMASKEDIMGPATH = r'*_partialmasked/*.jpg'\n",
    "UNMASKEDIMGPATH = r'*_unmasked/*.jpg'"
   ]
  },
  {
   "attachments": {},
   "cell_type": "markdown",
   "metadata": {},
   "source": [
    "### dataset"
   ]
  },
  {
   "cell_type": "code",
   "execution_count": null,
   "metadata": {},
   "outputs": [],
   "source": [
    "data = Dataset(IMAGEFLODERPATH,MASKEDIMGPATH,PARTIALMASKEDIMGPATH,UNMASKEDIMGPATH,color=False)\n",
    "plt.imshow(data[0],'gray')\n",
    "plt.show()\n",
    "print(data.label(0))\n",
    "print(len(data))\n",
    "print(data[0].shape)"
   ]
  },
  {
   "cell_type": "code",
   "execution_count": null,
   "metadata": {},
   "outputs": [],
   "source": [
    "conv = Conv2d()\n",
    "batch = np.zeros([1,1,300,300])\n",
    "batch[0,0,:,:] = data[0]\n",
    "conv.forward(batch)"
   ]
  },
  {
   "cell_type": "code",
   "execution_count": null,
   "metadata": {},
   "outputs": [],
   "source": []
  },
  {
   "cell_type": "code",
   "execution_count": null,
   "metadata": {},
   "outputs": [],
   "source": []
  }
 ],
 "metadata": {
  "kernelspec": {
   "display_name": "DeepLearning",
   "language": "python",
   "name": "python3"
  },
  "language_info": {
   "codemirror_mode": {
    "name": "ipython",
    "version": 3
   },
   "file_extension": ".py",
   "mimetype": "text/x-python",
   "name": "python",
   "nbconvert_exporter": "python",
   "pygments_lexer": "ipython3",
   "version": "3.9.13"
  },
  "orig_nbformat": 4,
  "vscode": {
   "interpreter": {
    "hash": "627c7ca4540c130a5ae87fdd551b66ef794b282493d3a91f94441822ce8cc555"
   }
  }
 },
 "nbformat": 4,
 "nbformat_minor": 2
}
