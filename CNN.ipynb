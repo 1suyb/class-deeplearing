{
 "cells": [
  {
   "cell_type": "code",
   "execution_count": 1,
   "metadata": {},
   "outputs": [],
   "source": [
    "import numpy as np"
   ]
  },
  {
   "cell_type": "code",
   "execution_count": 2,
   "metadata": {},
   "outputs": [],
   "source": [
    "def show(x,name) :\n",
    "    print(x); print('%s shape:'%name, end=' '); print(x.shape)\n"
   ]
  },
  {
   "cell_type": "markdown",
   "metadata": {},
   "source": [
    "### Data 선언"
   ]
  },
  {
   "cell_type": "code",
   "execution_count": 19,
   "metadata": {},
   "outputs": [
    {
     "name": "stdout",
     "output_type": "stream",
     "text": [
      "[[[[1 2 3 0]\n",
      "   [0 1 2 3]\n",
      "   [3 0 1 2]\n",
      "   [2 3 0 1]]\n",
      "\n",
      "  [[5 6 8 0]\n",
      "   [0 6 2 3]\n",
      "   [5 2 1 9]\n",
      "   [4 3 1 1]]]\n",
      "\n",
      "\n",
      " [[[1 2 1 0]\n",
      "   [0 2 2 3]\n",
      "   [3 0 9 2]\n",
      "   [1 3 0 2]]\n",
      "\n",
      "  [[5 6 8 0]\n",
      "   [2 5 2 3]\n",
      "   [2 2 6 9]\n",
      "   [4 2 1 4]]]]\n",
      "X shape: (2, 2, 4, 4)\n",
      "[[[[2 0 1]\n",
      "   [0 1 2]\n",
      "   [1 0 2]]\n",
      "\n",
      "  [[1 2 1]\n",
      "   [0 2 0]\n",
      "   [1 0 1]]]\n",
      "\n",
      "\n",
      " [[[1 1 1]\n",
      "   [1 0 1]\n",
      "   [1 2 1]]\n",
      "\n",
      "  [[1 1 1]\n",
      "   [0 1 1]\n",
      "   [0 2 2]]]\n",
      "\n",
      "\n",
      " [[[2 1 1]\n",
      "   [1 0 0]\n",
      "   [1 0 1]]\n",
      "\n",
      "  [[2 0 1]\n",
      "   [2 2 0]\n",
      "   [0 2 0]]]]\n",
      "W shape: (3, 2, 3, 3)\n"
     ]
    }
   ],
   "source": [
    "N = 2       # input\n",
    "n_ic = 2    # input(filter) channel\n",
    "n_oc = 3    # output channel\n",
    "n_i = 4     # input(row,col) size\n",
    "n_f = 3     # filter(row,col) size\n",
    "p = 0       # padding size\n",
    "s = 1       # stride size\n",
    "n_o = int((n_i + 2*p - n_f)/s) + 1  # output size\n",
    "# X(N, n_ic, n_i, n_i)\n",
    "X11 = np.array([[1,2,3,0],[0,1,2,3],[3,0,1,2],[2,3,0,1]])\n",
    "X12 = np.array([[5,6,8,0],[0,6,2,3],[5,2,1,9],[4,3,1,1]])\n",
    "X1 = np.array([X11,X12])\n",
    "X21 = np.array([[1,2,1,0],[0,2,2,3],[3,0,9,2],[1,3,0,2]])\n",
    "X22 = np.array([[5,6,8,0],[2,5,2,3],[2,2,6,9],[4,2,1,4]])\n",
    "X2 = np.array([X21,X22])\n",
    "X = np.array([X1,X2])\n",
    "X = np.pad(X,((0,0),(0,0),(p,p),(p,p)),constant_values=(0,))\n",
    "show(X,'X')\n",
    "# W(n_oc, n_ic, n_f, n_f)\n",
    "W11 = np.array([[2,0,1],[0,1,2],[1,0,2]])\n",
    "W12 = np.array([[1,2,1],[0,2,0],[1,0,1]])\n",
    "W1 = np.array([W11,W12])\n",
    "W21 = np.array([[1,1,1],[1,0,1],[1,2,1]])\n",
    "W22 = np.array([[1,1,1],[0,1,1],[0,2,2]])\n",
    "W2 = np.array([W21,W22])\n",
    "W31 = np.array([[2,1,1],[1,0,0],[1,0,1]])\n",
    "W32 = np.array([[2,0,1],[2,2,0],[0,2,0]])\n",
    "W3 = np.array([W31,W32])\n",
    "W = np.array([W1,W2,W3])\n",
    "show(W,'W')\n",
    "# output(N, n_oc, n_o, n_o)\n"
   ]
  },
  {
   "cell_type": "markdown",
   "metadata": {},
   "source": [
    "### Homework1"
   ]
  },
  {
   "cell_type": "code",
   "execution_count": 4,
   "metadata": {},
   "outputs": [
    {
     "name": "stdout",
     "output_type": "stream",
     "text": [
      "[[[[58. 53.]\n",
      "   [29. 34.]]\n",
      "\n",
      "  [[45. 52.]\n",
      "   [34. 37.]]\n",
      "\n",
      "  [[45. 40.]\n",
      "   [30. 34.]]]\n",
      "\n",
      "\n",
      " [[[73. 53.]\n",
      "   [44. 57.]]\n",
      "\n",
      "  [[60. 77.]\n",
      "   [46. 49.]]\n",
      "\n",
      "  [[53. 47.]\n",
      "   [26. 45.]]]]\n",
      "Y shape: (2, 3, 2, 2)\n"
     ]
    }
   ],
   "source": [
    "Y_ = np.zeros([N,n_oc,n_ic,n_o,n_o])\n",
    "for i in range(n_o) :\n",
    "    i1 = s*i; i2 = i1 + n_f\n",
    "    for j in range(n_o) :\n",
    "        j1 = s*j; j2 = j1 + n_f\n",
    "        for k1 in range(n_oc) :\n",
    "            Y_[:,k1,:,i,j] = np.sum( X[:,:,i1:i2,j1:j2]*W[k1], axis=(2,3) )\n",
    "Y = np.sum(Y_,axis=2)\n",
    "show(Y,'Y')"
   ]
  },
  {
   "cell_type": "markdown",
   "metadata": {},
   "source": [
    "### Homework2"
   ]
  },
  {
   "cell_type": "code",
   "execution_count": 20,
   "metadata": {},
   "outputs": [
    {
     "name": "stdout",
     "output_type": "stream",
     "text": [
      "[[[[58. 53.]\n",
      "   [29. 34.]]\n",
      "\n",
      "  [[45. 52.]\n",
      "   [34. 37.]]\n",
      "\n",
      "  [[45. 40.]\n",
      "   [30. 34.]]]\n",
      "\n",
      "\n",
      " [[[73. 53.]\n",
      "   [44. 57.]]\n",
      "\n",
      "  [[60. 77.]\n",
      "   [46. 49.]]\n",
      "\n",
      "  [[53. 47.]\n",
      "   [26. 45.]]]]\n",
      "Y shape: (2, 3, 2, 2)\n"
     ]
    }
   ],
   "source": [
    "W_col = W.reshape([n_oc,n_ic*n_f*n_f]); W_col = W_col.T\n",
    "X_col = np.empty([N*n_o*n_o,n_ic*n_f*n_f])\n",
    "for i in range(n_o) :\n",
    "    i1 = s*i; i2 = i1 + n_f\n",
    "    for j in range(n_o) :\n",
    "        j1 = s*j; j2 = j1 + n_f\n",
    "        for k in range(N) :\n",
    "            idx = N*n_o*k + n_o*i + j\n",
    "            X_col[idx,:] = X[k,:,i1:i2,j1:j2].flatten()\n",
    "Y = X_col@W_col\n",
    "Y = Y.reshape([N,-1,n_oc])\n",
    "Y = np.transpose(Y,[0,2,1])\n",
    "Y = Y.reshape([N,n_oc,n_o,n_o])\n",
    "show(Y,'Y')"
   ]
  },
  {
   "cell_type": "code",
   "execution_count": 18,
   "metadata": {},
   "outputs": [
    {
     "name": "stdout",
     "output_type": "stream",
     "text": [
      "[[[[58. 53.]\n",
      "   [29. 34.]]\n",
      "\n",
      "  [[45. 52.]\n",
      "   [34. 37.]]\n",
      "\n",
      "  [[45. 40.]\n",
      "   [30. 34.]]]\n",
      "\n",
      "\n",
      " [[[73. 53.]\n",
      "   [44. 57.]]\n",
      "\n",
      "  [[60. 77.]\n",
      "   [46. 49.]]\n",
      "\n",
      "  [[53. 47.]\n",
      "   [26. 45.]]]]\n",
      "Y shape: (2, 3, 2, 2)\n"
     ]
    }
   ],
   "source": [
    "W_col = W.reshape([n_oc, n_ic*n_f*n_f])\n",
    "W_col = W_col.T\n",
    "X_col = np.empty([N*n_o*n_o, n_ic*n_f*n_f])\n",
    "for i in range(n_o) :\n",
    "    i1 = s*i; i2 = i1 + n_f\n",
    "    for j in range(n_o) :\n",
    "        j1 = s*j; j2 = j1 + n_f\n",
    "        idx = n_o*i + j \n",
    "        for k in range(N) : \n",
    "            X_col[idx+k*n_o*n_o,:] = X[k,:,i1:i2,j1:j2].flatten()\n",
    "Y = X_col@W_col\n",
    "Y = np.split(Y,2,axis=0)\n",
    "Y = np.array(Y).swapaxes(1,2)\n",
    "Y = Y.reshape(N,n_oc,n_o,n_o)\n",
    "show(Y,'Y')"
   ]
  },
  {
   "cell_type": "markdown",
   "metadata": {},
   "source": [
    "### Data2"
   ]
  },
  {
   "cell_type": "code",
   "execution_count": 6,
   "metadata": {},
   "outputs": [
    {
     "name": "stdout",
     "output_type": "stream",
     "text": [
      "[[[[1 2 3 0]\n",
      "   [0 1 2 3]\n",
      "   [3 0 1 2]\n",
      "   [2 3 0 1]]\n",
      "\n",
      "  [[5 6 8 0]\n",
      "   [0 6 2 3]\n",
      "   [5 2 1 9]\n",
      "   [4 3 1 1]]]\n",
      "\n",
      "\n",
      " [[[1 2 1 0]\n",
      "   [0 2 2 3]\n",
      "   [3 0 9 2]\n",
      "   [1 3 0 2]]\n",
      "\n",
      "  [[5 6 8 0]\n",
      "   [2 5 2 3]\n",
      "   [2 2 6 9]\n",
      "   [4 2 1 4]]]]\n",
      "X shape: (2, 2, 4, 4)\n"
     ]
    }
   ],
   "source": [
    "N = 2       # input data\n",
    "n_ic = 2    # inputdata channel\n",
    "n_i = 4     # input data size\n",
    "n_p = 2     # pooling mask size\n",
    "p = 0       # padding\n",
    "s = 2       # stride\n",
    "n_o = int((n_i + 2*p - n_p)/s) + 1\n",
    "\n",
    "# X[N, n_ic, n_i, n_i]\n",
    "X11 = np.array([[1,2,3,0],[0,1,2,3],[3,0,1,2],[2,3,0,1]])\n",
    "X12 = np.array([[5,6,8,0],[0,6,2,3],[5,2,1,9],[4,3,1,1]])\n",
    "X1 = np.array([X11,X12])\n",
    "X21 = np.array([[1,2,1,0],[0,2,2,3],[3,0,9,2],[1,3,0,2]])\n",
    "X22 = np.array([[5,6,8,0],[2,5,2,3],[2,2,6,9],[4,2,1,4]])\n",
    "X2 = np.array([X21,X22])\n",
    "X = np.array([X1,X2])\n",
    "X = np.pad(X,((0,0),(0,0),(p,p),(p,p)),constant_values=(0,))\n",
    "show(X,'X')"
   ]
  },
  {
   "cell_type": "markdown",
   "metadata": {},
   "source": [
    "### Homework3"
   ]
  },
  {
   "cell_type": "code",
   "execution_count": 7,
   "metadata": {},
   "outputs": [
    {
     "name": "stdout",
     "output_type": "stream",
     "text": [
      "[[[[2. 3.]\n",
      "   [3. 2.]]\n",
      "\n",
      "  [[6. 8.]\n",
      "   [5. 9.]]]\n",
      "\n",
      "\n",
      " [[[2. 3.]\n",
      "   [3. 9.]]\n",
      "\n",
      "  [[6. 8.]\n",
      "   [4. 9.]]]]\n",
      "Y shape: (2, 2, 2, 2)\n"
     ]
    }
   ],
   "source": [
    "Y_ = np.zeros([N, n_ic, n_o, n_o])\n",
    "\n",
    "for i in range(n_o) :\n",
    "    i1 = s*i\n",
    "    i2 = i1 + n_p\n",
    "    for j in range(n_o) :\n",
    "        j1 = s*j\n",
    "        j2 = j1 + n_p\n",
    "        for n in range(N) :\n",
    "            for w in range(n_ic) :\n",
    "                Y_[n,w,i,j] = np.max(X[n,w,i1:i2,j1:j2])\n",
    "show(Y_,'Y')"
   ]
  },
  {
   "cell_type": "markdown",
   "metadata": {},
   "source": [
    "### Homework 4"
   ]
  },
  {
   "cell_type": "code",
   "execution_count": 8,
   "metadata": {},
   "outputs": [
    {
     "name": "stdout",
     "output_type": "stream",
     "text": [
      "[[[[2. 3.]\n",
      "   [3. 2.]]\n",
      "\n",
      "  [[6. 8.]\n",
      "   [5. 9.]]]\n",
      "\n",
      "\n",
      " [[[2. 3.]\n",
      "   [3. 9.]]\n",
      "\n",
      "  [[6. 8.]\n",
      "   [4. 9.]]]]\n",
      "Y shape: (2, 2, 2, 2)\n"
     ]
    }
   ],
   "source": [
    "X_col = np.zeros([N*n_ic*n_p*n_p,n_p*n_p])\n",
    "X_ = X.reshape(N*n_ic,n_i,n_i)\n",
    "for i in range(n_p) :\n",
    "    i1 = s*i\n",
    "    i2 = i1 + n_p\n",
    "    for j in range(n_p) :\n",
    "        j1 = s*j\n",
    "        j2 = j1 + n_p\n",
    "        idx = n_p*i + j\n",
    "        for k in range(N*n_ic) : \n",
    "\n",
    "            X_col[idx+4*k,:] = X_[k,i1:i2,j1:j2].flatten()\n",
    "Y = X_col.max(axis=1)\n",
    "Y = np.split(Y,2,axis=0)\n",
    "Y = np.array(Y)\n",
    "Y = Y.reshape(N,n_ic,n_p,n_p)\n",
    "show(Y,'Y')"
   ]
  }
 ],
 "metadata": {
  "kernelspec": {
   "display_name": "Python 3.9.13 ('DeepLearning')",
   "language": "python",
   "name": "python3"
  },
  "language_info": {
   "codemirror_mode": {
    "name": "ipython",
    "version": 3
   },
   "file_extension": ".py",
   "mimetype": "text/x-python",
   "name": "python",
   "nbconvert_exporter": "python",
   "pygments_lexer": "ipython3",
   "version": "3.9.13 (main, Aug 25 2022, 23:51:50) [MSC v.1916 64 bit (AMD64)]"
  },
  "orig_nbformat": 4,
  "vscode": {
   "interpreter": {
    "hash": "627c7ca4540c130a5ae87fdd551b66ef794b282493d3a91f94441822ce8cc555"
   }
  }
 },
 "nbformat": 4,
 "nbformat_minor": 2
}
