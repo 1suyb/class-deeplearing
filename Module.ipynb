{
 "cells": [
  {
   "cell_type": "code",
   "execution_count": 1,
   "metadata": {},
   "outputs": [],
   "source": [
    "import numpy as np\n",
    "import torch\n",
    "import torch.nn as nn\n",
    "from MnistLayers import Mul,Add,ReLU, Sigmoid, SoftMaxWithCrossEntropy, Linear\n",
    "eps = 1e-8"
   ]
  },
  {
   "cell_type": "code",
   "execution_count": 2,
   "metadata": {},
   "outputs": [],
   "source": [
    "X = np.full((10,5),2.)\n",
    "W = np.full((5,),3.)\n",
    "b = np.array([1,2,3,4])\n",
    "X_tensor = torch.full((10,5),2., requires_grad=True)\n",
    "W_tensor = torch.full((5,),3., requires_grad=True)\n",
    "b_tensor= torch.tensor([1.,2.,3.,4.], requires_grad=True)"
   ]
  },
  {
   "cell_type": "markdown",
   "metadata": {},
   "source": [
    "##### linear"
   ]
  },
  {
   "cell_type": "code",
   "execution_count": 3,
   "metadata": {},
   "outputs": [],
   "source": [
    "X = np.full((10,5),2.)\n",
    "X_tensor = torch.full((10,5),2., requires_grad=True)"
   ]
  },
  {
   "cell_type": "code",
   "execution_count": 4,
   "metadata": {},
   "outputs": [
    {
     "name": "stdout",
     "output_type": "stream",
     "text": [
      "[[-0.1337701   0.89626499  0.12284613]\n",
      " [-0.1337701   0.89626499  0.12284613]\n",
      " [-0.1337701   0.89626499  0.12284613]\n",
      " [-0.1337701   0.89626499  0.12284613]\n",
      " [-0.1337701   0.89626499  0.12284613]\n",
      " [-0.1337701   0.89626499  0.12284613]\n",
      " [-0.1337701   0.89626499  0.12284613]\n",
      " [-0.1337701   0.89626499  0.12284613]\n",
      " [-0.1337701   0.89626499  0.12284613]\n",
      " [-0.1337701   0.89626499  0.12284613]]\n",
      "tensor([[ 0.1125,  0.2297, -1.6066],\n",
      "        [ 0.1125,  0.2297, -1.6066],\n",
      "        [ 0.1125,  0.2297, -1.6066],\n",
      "        [ 0.1125,  0.2297, -1.6066],\n",
      "        [ 0.1125,  0.2297, -1.6066],\n",
      "        [ 0.1125,  0.2297, -1.6066],\n",
      "        [ 0.1125,  0.2297, -1.6066],\n",
      "        [ 0.1125,  0.2297, -1.6066],\n",
      "        [ 0.1125,  0.2297, -1.6066],\n",
      "        [ 0.1125,  0.2297, -1.6066]], grad_fn=<AddmmBackward0>)\n"
     ]
    }
   ],
   "source": [
    "model = Linear(5,3)\n",
    "model_torch = nn.Linear(5,3)\n",
    "\n",
    "Y = model.forward(X)\n",
    "Y_tensor = model_torch(X_tensor)\n",
    "print(Y)\n",
    "print(Y_tensor)"
   ]
  },
  {
   "cell_type": "code",
   "execution_count": 5,
   "metadata": {},
   "outputs": [
    {
     "name": "stdout",
     "output_type": "stream",
     "text": [
      "[[ 0.16634097  0.18116754 -0.05391286  0.60599591 -0.45692103]\n",
      " [ 0.16634097  0.18116754 -0.05391286  0.60599591 -0.45692103]\n",
      " [ 0.16634097  0.18116754 -0.05391286  0.60599591 -0.45692103]\n",
      " [ 0.16634097  0.18116754 -0.05391286  0.60599591 -0.45692103]\n",
      " [ 0.16634097  0.18116754 -0.05391286  0.60599591 -0.45692103]\n",
      " [ 0.16634097  0.18116754 -0.05391286  0.60599591 -0.45692103]\n",
      " [ 0.16634097  0.18116754 -0.05391286  0.60599591 -0.45692103]\n",
      " [ 0.16634097  0.18116754 -0.05391286  0.60599591 -0.45692103]\n",
      " [ 0.16634097  0.18116754 -0.05391286  0.60599591 -0.45692103]\n",
      " [ 0.16634097  0.18116754 -0.05391286  0.60599591 -0.45692103]]\n",
      "tensor([[-0.4327,  0.5525,  0.1700, -0.6020,  0.0203],\n",
      "        [-0.4327,  0.5525,  0.1700, -0.6020,  0.0203],\n",
      "        [-0.4327,  0.5525,  0.1700, -0.6020,  0.0203],\n",
      "        [-0.4327,  0.5525,  0.1700, -0.6020,  0.0203],\n",
      "        [-0.4327,  0.5525,  0.1700, -0.6020,  0.0203],\n",
      "        [-0.4327,  0.5525,  0.1700, -0.6020,  0.0203],\n",
      "        [-0.4327,  0.5525,  0.1700, -0.6020,  0.0203],\n",
      "        [-0.4327,  0.5525,  0.1700, -0.6020,  0.0203],\n",
      "        [-0.4327,  0.5525,  0.1700, -0.6020,  0.0203],\n",
      "        [-0.4327,  0.5525,  0.1700, -0.6020,  0.0203]])\n"
     ]
    }
   ],
   "source": [
    "dX,dW,db = model.backward(np.ones_like(Y))\n",
    "Y_tensor.backward(torch.ones_like(Y_tensor))\n",
    "print(dX)\n",
    "print(X_tensor.grad)"
   ]
  },
  {
   "cell_type": "markdown",
   "metadata": {},
   "source": [
    "##### SoftMax with CrossEntropy"
   ]
  },
  {
   "cell_type": "code",
   "execution_count": 6,
   "metadata": {},
   "outputs": [],
   "source": [
    "class SMwtCE(nn.Module) :\n",
    "    def __init__(self):\n",
    "        super().__init__()\n",
    "        self.Softmax = nn.Softmax(dim=1)\n",
    "        self.Crossentropy = nn.CrossEntropyLoss()\n",
    "\n",
    "    def forward(self, X, T) :\n",
    "        X1 = self.Softmax(X)\n",
    "        print(X1)\n",
    "        Y = self.Crossentropy(X1,T)\n",
    "        return Y"
   ]
  },
  {
   "cell_type": "code",
   "execution_count": 7,
   "metadata": {},
   "outputs": [],
   "source": [
    "X = np.array([[0.,1.,-1.,3.],[0.5,0.7,0.,0.]])\n",
    "X_tensor = torch.tensor([[0.,1.,-1.,3.],[0.5,0.7,0.,0.]], requires_grad=True)\n",
    "T = np.array([[1., 0., 0., 0.],[0., 1., 0., 0.]])\n",
    "T_tensor = torch.tensor([[1., 0., 0., 0.],[0., 1., 0., 0.]], requires_grad=True)"
   ]
  },
  {
   "cell_type": "code",
   "execution_count": 8,
   "metadata": {},
   "outputs": [
    {
     "name": "stdout",
     "output_type": "stream",
     "text": [
      "2.1095215390499398\n",
      "tensor(2.1095, grad_fn=<DivBackward1>)\n"
     ]
    }
   ],
   "source": [
    "model = SoftMaxWithCrossEntropy()\n",
    "model_torch = nn.CrossEntropyLoss()\n",
    "Y = model.forward(X,T)\n",
    "Y_tensor=model_torch(X_tensor,T_tensor)\n",
    "\n",
    "print(Y)\n",
    "print(Y_tensor)"
   ]
  },
  {
   "cell_type": "code",
   "execution_count": 9,
   "metadata": {},
   "outputs": [
    {
     "name": "stdout",
     "output_type": "stream",
     "text": [
      "1.1102230246251565e-16\n",
      "tensor([[-0.4793,  0.0562,  0.0076,  0.4155],\n",
      "        [ 0.1456, -0.3222,  0.0883,  0.0883]])\n"
     ]
    }
   ],
   "source": [
    "dX = model.backward()\n",
    "Y_tensor.backward(torch.ones_like(Y_tensor))\n",
    "print(np.sum(dX))\n",
    "print(X_tensor.grad)"
   ]
  },
  {
   "cell_type": "markdown",
   "metadata": {},
   "source": [
    "##### Sigmoid"
   ]
  },
  {
   "cell_type": "code",
   "execution_count": 10,
   "metadata": {},
   "outputs": [],
   "source": [
    "X = np.array([[0,1,-1,3],[0.5,0.7,0,0]])\n",
    "X_tensor = torch.tensor([[0.,1.,-1.,3.],[0.5,0.7,0.,0.]], requires_grad=True)"
   ]
  },
  {
   "cell_type": "code",
   "execution_count": 11,
   "metadata": {},
   "outputs": [
    {
     "name": "stdout",
     "output_type": "stream",
     "text": [
      "[[0.5        0.73105858 0.26894142 0.95257413]\n",
      " [0.62245933 0.66818777 0.5        0.5       ]]\n",
      "tensor([[0.5000, 0.7311, 0.2689, 0.9526],\n",
      "        [0.6225, 0.6682, 0.5000, 0.5000]], grad_fn=<SigmoidBackward0>)\n"
     ]
    }
   ],
   "source": [
    "model = Sigmoid()\n",
    "model_torch = nn.Sigmoid()\n",
    "\n",
    "Y = model.forward(X)\n",
    "Y_tensor = model_torch(X_tensor)\n",
    "print(Y)\n",
    "print(Y_tensor)"
   ]
  },
  {
   "cell_type": "code",
   "execution_count": 12,
   "metadata": {},
   "outputs": [
    {
     "name": "stdout",
     "output_type": "stream",
     "text": [
      "[[0.25       0.19661193 0.19661193 0.04517666]\n",
      " [0.23500371 0.22171287 0.25       0.25      ]]\n",
      "tensor([[0.2500, 0.1966, 0.1966, 0.0452],\n",
      "        [0.2350, 0.2217, 0.2500, 0.2500]])\n"
     ]
    }
   ],
   "source": [
    "dX = model.backward(np.ones_like(Y))\n",
    "Y_tensor.backward(torch.ones_like(Y_tensor))\n",
    "print(dX)\n",
    "print(X_tensor.grad)"
   ]
  },
  {
   "cell_type": "markdown",
   "metadata": {},
   "source": [
    "##### ReLU"
   ]
  },
  {
   "cell_type": "code",
   "execution_count": 13,
   "metadata": {},
   "outputs": [],
   "source": [
    "X = np.array([[0,1,-1,3],[0.5,0.7,0,0]])\n",
    "X_tensor = torch.tensor([[0.,1.,-1.,3.],[0.5,0.7,0.,0.]], requires_grad=True)"
   ]
  },
  {
   "cell_type": "code",
   "execution_count": 14,
   "metadata": {},
   "outputs": [
    {
     "name": "stdout",
     "output_type": "stream",
     "text": [
      "[[0.  1.  0.  3. ]\n",
      " [0.5 0.7 0.  0. ]]\n",
      "tensor([[0.0000, 1.0000, 0.0000, 3.0000],\n",
      "        [0.5000, 0.7000, 0.0000, 0.0000]], grad_fn=<ReluBackward0>)\n"
     ]
    }
   ],
   "source": [
    "model = ReLU()\n",
    "Y = model.forward(X)\n",
    "print(Y)\n",
    "model_torch = nn.ReLU()\n",
    "Y_tensor = model_torch(X_tensor)\n",
    "print(Y_tensor)"
   ]
  },
  {
   "cell_type": "code",
   "execution_count": 15,
   "metadata": {},
   "outputs": [
    {
     "name": "stdout",
     "output_type": "stream",
     "text": [
      "[[0. 1. 0. 1.]\n",
      " [1. 1. 0. 0.]]\n",
      "tensor([[0., 1., 0., 1.],\n",
      "        [1., 1., 0., 0.]])\n"
     ]
    }
   ],
   "source": [
    "dX = model.backward(np.ones_like(Y))\n",
    "Y_tensor.backward(torch.ones_like(Y_tensor))\n",
    "print(dX)\n",
    "print(X_tensor.grad)"
   ]
  },
  {
   "cell_type": "markdown",
   "metadata": {},
   "source": [
    "##### Add"
   ]
  },
  {
   "cell_type": "code",
   "execution_count": 16,
   "metadata": {},
   "outputs": [],
   "source": [
    "X = np.full((10,5),2.)\n",
    "W = np.full((5,),3.)\n",
    "X_tensor = torch.full((10,5),2., requires_grad=True)\n",
    "W_tensor = torch.full((5,),3., requires_grad=True)"
   ]
  },
  {
   "cell_type": "code",
   "execution_count": 17,
   "metadata": {},
   "outputs": [
    {
     "name": "stdout",
     "output_type": "stream",
     "text": [
      "[[1. 1. 1. 1. 1.]\n",
      " [1. 1. 1. 1. 1.]\n",
      " [1. 1. 1. 1. 1.]\n",
      " [1. 1. 1. 1. 1.]\n",
      " [1. 1. 1. 1. 1.]\n",
      " [1. 1. 1. 1. 1.]\n",
      " [1. 1. 1. 1. 1.]\n",
      " [1. 1. 1. 1. 1.]\n",
      " [1. 1. 1. 1. 1.]\n",
      " [1. 1. 1. 1. 1.]] [10. 10. 10. 10. 10.]\n"
     ]
    }
   ],
   "source": [
    "model = Add()\n",
    "Y = model.forward(X,W)\n",
    "dX,db = model.backward(np.ones_like(Y))\n",
    "print(dX, db)"
   ]
  },
  {
   "cell_type": "code",
   "execution_count": 18,
   "metadata": {},
   "outputs": [
    {
     "name": "stdout",
     "output_type": "stream",
     "text": [
      "tensor([[1., 1., 1., 1., 1.],\n",
      "        [1., 1., 1., 1., 1.],\n",
      "        [1., 1., 1., 1., 1.],\n",
      "        [1., 1., 1., 1., 1.],\n",
      "        [1., 1., 1., 1., 1.],\n",
      "        [1., 1., 1., 1., 1.],\n",
      "        [1., 1., 1., 1., 1.],\n",
      "        [1., 1., 1., 1., 1.],\n",
      "        [1., 1., 1., 1., 1.],\n",
      "        [1., 1., 1., 1., 1.]]) tensor([10., 10., 10., 10., 10.])\n"
     ]
    }
   ],
   "source": [
    "Y_tensor = X_tensor+W_tensor\n",
    "Y_tensor.backward(torch.ones_like(Y_tensor))\n",
    "print(X_tensor.grad,W_tensor.grad)\n"
   ]
  },
  {
   "cell_type": "markdown",
   "metadata": {},
   "source": [
    "##### MulLayer"
   ]
  },
  {
   "cell_type": "code",
   "execution_count": 25,
   "metadata": {},
   "outputs": [],
   "source": [
    "X = np.full((10,5),2.)\n",
    "W = np.full((5,1),3.)\n",
    "X_tensor = torch.full((10,5),2., requires_grad=True)\n",
    "W_tensor = torch.full((5,1),3., requires_grad=True)"
   ]
  },
  {
   "cell_type": "code",
   "execution_count": 26,
   "metadata": {},
   "outputs": [
    {
     "name": "stdout",
     "output_type": "stream",
     "text": [
      "[[30.]\n",
      " [30.]\n",
      " [30.]\n",
      " [30.]\n",
      " [30.]\n",
      " [30.]\n",
      " [30.]\n",
      " [30.]\n",
      " [30.]\n",
      " [30.]]\n",
      "tensor([[30.],\n",
      "        [30.],\n",
      "        [30.],\n",
      "        [30.],\n",
      "        [30.],\n",
      "        [30.],\n",
      "        [30.],\n",
      "        [30.],\n",
      "        [30.],\n",
      "        [30.]], grad_fn=<MmBackward0>)\n"
     ]
    }
   ],
   "source": [
    "model = Mul()\n",
    "Y = model.forward(X,W)\n",
    "Y_tensor = torch.matmul(X_tensor,W_tensor)\n",
    "print(Y)\n",
    "print(Y_tensor)\n"
   ]
  },
  {
   "cell_type": "code",
   "execution_count": 27,
   "metadata": {},
   "outputs": [
    {
     "name": "stdout",
     "output_type": "stream",
     "text": [
      "dX :  [[3. 3. 3. 3. 3.]\n",
      " [3. 3. 3. 3. 3.]\n",
      " [3. 3. 3. 3. 3.]\n",
      " [3. 3. 3. 3. 3.]\n",
      " [3. 3. 3. 3. 3.]\n",
      " [3. 3. 3. 3. 3.]\n",
      " [3. 3. 3. 3. 3.]\n",
      " [3. 3. 3. 3. 3.]\n",
      " [3. 3. 3. 3. 3.]\n",
      " [3. 3. 3. 3. 3.]]\n",
      "dW :  [[20.]\n",
      " [20.]\n",
      " [20.]\n",
      " [20.]\n",
      " [20.]]\n",
      "dX :  tensor([[3., 3., 3., 3., 3.],\n",
      "        [3., 3., 3., 3., 3.],\n",
      "        [3., 3., 3., 3., 3.],\n",
      "        [3., 3., 3., 3., 3.],\n",
      "        [3., 3., 3., 3., 3.],\n",
      "        [3., 3., 3., 3., 3.],\n",
      "        [3., 3., 3., 3., 3.],\n",
      "        [3., 3., 3., 3., 3.],\n",
      "        [3., 3., 3., 3., 3.],\n",
      "        [3., 3., 3., 3., 3.]])\n",
      "dW :  tensor([[20.],\n",
      "        [20.],\n",
      "        [20.],\n",
      "        [20.],\n",
      "        [20.]])\n"
     ]
    }
   ],
   "source": [
    "dX,dW = model.backward(np.ones_like(Y))\n",
    "print(\"dX : \", dX)\n",
    "print(\"dW : \", dW)\n",
    "Y_tensor.backward(torch.ones_like(Y_tensor))\n",
    "print(\"dX : \", X_tensor.grad)\n",
    "print(\"dW : \", W_tensor.grad)"
   ]
  },
  {
   "cell_type": "code",
   "execution_count": null,
   "metadata": {},
   "outputs": [],
   "source": []
  }
 ],
 "metadata": {
  "kernelspec": {
   "display_name": "Python 3.9.13 ('DeepLearning')",
   "language": "python",
   "name": "python3"
  },
  "language_info": {
   "codemirror_mode": {
    "name": "ipython",
    "version": 3
   },
   "file_extension": ".py",
   "mimetype": "text/x-python",
   "name": "python",
   "nbconvert_exporter": "python",
   "pygments_lexer": "ipython3",
   "version": "3.9.13"
  },
  "orig_nbformat": 4,
  "vscode": {
   "interpreter": {
    "hash": "627c7ca4540c130a5ae87fdd551b66ef794b282493d3a91f94441822ce8cc555"
   }
  }
 },
 "nbformat": 4,
 "nbformat_minor": 2
}
